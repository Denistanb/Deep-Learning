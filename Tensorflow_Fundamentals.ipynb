{
  "nbformat": 4,
  "nbformat_minor": 0,
  "metadata": {
    "colab": {
      "provenance": [],
      "gpuType": "T4"
    },
    "kernelspec": {
      "name": "python3",
      "display_name": "Python 3"
    },
    "language_info": {
      "name": "python"
    },
    "accelerator": "GPU"
  },
  "cells": [
    {
      "cell_type": "code",
      "execution_count": 1,
      "metadata": {
        "id": "EPFzNxAPtbMt"
      },
      "outputs": [],
      "source": [
        "# Importing\n",
        "\n",
        "import tensorflow as tf"
      ]
    },
    {
      "cell_type": "code",
      "source": [
        "scalar=tf.constant(2) # 0 Dimension\n",
        "scalar"
      ],
      "metadata": {
        "id": "botjM9AgtqqW",
        "colab": {
          "base_uri": "https://localhost:8080/"
        },
        "outputId": "5cdd1d48-ff80-4fd0-8b83-c75336790f59"
      },
      "execution_count": 2,
      "outputs": [
        {
          "output_type": "execute_result",
          "data": {
            "text/plain": [
              "<tf.Tensor: shape=(), dtype=int32, numpy=2>"
            ]
          },
          "metadata": {},
          "execution_count": 2
        }
      ]
    },
    {
      "cell_type": "code",
      "source": [
        "vector=tf.constant([1,2]) # 1 Dimension\n",
        "vector"
      ],
      "metadata": {
        "colab": {
          "base_uri": "https://localhost:8080/"
        },
        "id": "h0_xpDNdUc6I",
        "outputId": "1b84408c-7864-4532-8d7b-2699da074c32"
      },
      "execution_count": 3,
      "outputs": [
        {
          "output_type": "execute_result",
          "data": {
            "text/plain": [
              "<tf.Tensor: shape=(2,), dtype=int32, numpy=array([1, 2], dtype=int32)>"
            ]
          },
          "metadata": {},
          "execution_count": 3
        }
      ]
    },
    {
      "cell_type": "code",
      "source": [
        "matrix=tf.constant([[1,2],[3,4]]) # 2 Dimensions\n",
        "matrix"
      ],
      "metadata": {
        "colab": {
          "base_uri": "https://localhost:8080/"
        },
        "id": "PUEtyoFgUnAC",
        "outputId": "1244ba9e-4b68-4bdf-9b63-15e9ec4b93f4"
      },
      "execution_count": 4,
      "outputs": [
        {
          "output_type": "execute_result",
          "data": {
            "text/plain": [
              "<tf.Tensor: shape=(2, 2), dtype=int32, numpy=\n",
              "array([[1, 2],\n",
              "       [3, 4]], dtype=int32)>"
            ]
          },
          "metadata": {},
          "execution_count": 4
        }
      ]
    },
    {
      "cell_type": "code",
      "source": [
        "tensor=tf.constant([[[1,2],[3,4]],[[5,6],[7,8]]]) # >2 Dimensions\n",
        "tensor"
      ],
      "metadata": {
        "colab": {
          "base_uri": "https://localhost:8080/"
        },
        "id": "QxJg9T0kVQZ-",
        "outputId": "5aa7784e-a4cc-40b5-adff-7735187b79aa"
      },
      "execution_count": 5,
      "outputs": [
        {
          "output_type": "execute_result",
          "data": {
            "text/plain": [
              "<tf.Tensor: shape=(2, 2, 2), dtype=int32, numpy=\n",
              "array([[[1, 2],\n",
              "        [3, 4]],\n",
              "\n",
              "       [[5, 6],\n",
              "        [7, 8]]], dtype=int32)>"
            ]
          },
          "metadata": {},
          "execution_count": 5
        }
      ]
    },
    {
      "cell_type": "code",
      "source": [
        "unchange_tensor=tf.Variable([[[1,2],[3,4]],[[5,6],[7,8]]]) # Changable\n",
        "unchange_tensor"
      ],
      "metadata": {
        "colab": {
          "base_uri": "https://localhost:8080/"
        },
        "id": "XdzgfrTsWBSO",
        "outputId": "86cf5b29-b14e-40fa-e7c6-02d71b57b160"
      },
      "execution_count": 6,
      "outputs": [
        {
          "output_type": "execute_result",
          "data": {
            "text/plain": [
              "<tf.Variable 'Variable:0' shape=(2, 2, 2) dtype=int32, numpy=\n",
              "array([[[1, 2],\n",
              "        [3, 4]],\n",
              "\n",
              "       [[5, 6],\n",
              "        [7, 8]]], dtype=int32)>"
            ]
          },
          "metadata": {},
          "execution_count": 6
        }
      ]
    },
    {
      "cell_type": "code",
      "source": [
        "unchange_tensor[0,0,0].assign(0)"
      ],
      "metadata": {
        "colab": {
          "base_uri": "https://localhost:8080/"
        },
        "id": "TJEdb9SGWP7S",
        "outputId": "e6105d1b-7a9f-49d6-f0d0-6815c5f1fe15"
      },
      "execution_count": 7,
      "outputs": [
        {
          "output_type": "execute_result",
          "data": {
            "text/plain": [
              "<tf.Variable 'UnreadVariable' shape=(2, 2, 2) dtype=int32, numpy=\n",
              "array([[[0, 2],\n",
              "        [3, 4]],\n",
              "\n",
              "       [[5, 6],\n",
              "        [7, 8]]], dtype=int32)>"
            ]
          },
          "metadata": {},
          "execution_count": 7
        }
      ]
    },
    {
      "cell_type": "code",
      "source": [
        "tf.random.Generator.from_seed(30)\n",
        "normal_tensor=tf.random.normal((2,2,2))\n",
        "normal_tensor"
      ],
      "metadata": {
        "colab": {
          "base_uri": "https://localhost:8080/"
        },
        "id": "IlGPL9b5WWbZ",
        "outputId": "a8775490-6f03-4d23-f918-e04cbf060703"
      },
      "execution_count": 8,
      "outputs": [
        {
          "output_type": "execute_result",
          "data": {
            "text/plain": [
              "<tf.Tensor: shape=(2, 2, 2), dtype=float32, numpy=\n",
              "array([[[ 0.17709458, -0.28476387],\n",
              "        [ 1.0869306 ,  1.5098499 ]],\n",
              "\n",
              "       [[-0.05204318,  0.18493454],\n",
              "        [-0.9942864 ,  0.16912152]]], dtype=float32)>"
            ]
          },
          "metadata": {},
          "execution_count": 8
        }
      ]
    },
    {
      "cell_type": "code",
      "source": [
        "tf.random.Generator.from_seed(30)\n",
        "uniform_tensor=tf.random.uniform((2,2,2))\n",
        "uniform_tensor"
      ],
      "metadata": {
        "colab": {
          "base_uri": "https://localhost:8080/"
        },
        "id": "sRUpABmkXDRJ",
        "outputId": "1002e6f5-f993-4aef-be14-f54f50d65081"
      },
      "execution_count": 9,
      "outputs": [
        {
          "output_type": "execute_result",
          "data": {
            "text/plain": [
              "<tf.Tensor: shape=(2, 2, 2), dtype=float32, numpy=\n",
              "array([[[0.56518126, 0.47163677],\n",
              "        [0.86716235, 0.61836874]],\n",
              "\n",
              "       [[0.27368677, 0.20903826],\n",
              "        [0.449669  , 0.248528  ]]], dtype=float32)>"
            ]
          },
          "metadata": {},
          "execution_count": 9
        }
      ]
    },
    {
      "cell_type": "code",
      "source": [
        "zero_tensor=tf.zeros((2,3,4))\n",
        "zero_tensor"
      ],
      "metadata": {
        "colab": {
          "base_uri": "https://localhost:8080/"
        },
        "id": "HBpI6RoWXK8V",
        "outputId": "540f169e-7ea9-40be-9db8-3140fdafd5ca"
      },
      "execution_count": 10,
      "outputs": [
        {
          "output_type": "execute_result",
          "data": {
            "text/plain": [
              "<tf.Tensor: shape=(2, 3, 4), dtype=float32, numpy=\n",
              "array([[[0., 0., 0., 0.],\n",
              "        [0., 0., 0., 0.],\n",
              "        [0., 0., 0., 0.]],\n",
              "\n",
              "       [[0., 0., 0., 0.],\n",
              "        [0., 0., 0., 0.],\n",
              "        [0., 0., 0., 0.]]], dtype=float32)>"
            ]
          },
          "metadata": {},
          "execution_count": 10
        }
      ]
    },
    {
      "cell_type": "code",
      "source": [
        "one_tensor=tf.ones((2,3,4))\n",
        "one_tensor"
      ],
      "metadata": {
        "colab": {
          "base_uri": "https://localhost:8080/"
        },
        "id": "KtrbKjlQXT2N",
        "outputId": "ab1634b0-d79c-4f93-fd1b-5ad89230e196"
      },
      "execution_count": 11,
      "outputs": [
        {
          "output_type": "execute_result",
          "data": {
            "text/plain": [
              "<tf.Tensor: shape=(2, 3, 4), dtype=float32, numpy=\n",
              "array([[[1., 1., 1., 1.],\n",
              "        [1., 1., 1., 1.],\n",
              "        [1., 1., 1., 1.]],\n",
              "\n",
              "       [[1., 1., 1., 1.],\n",
              "        [1., 1., 1., 1.],\n",
              "        [1., 1., 1., 1.]]], dtype=float32)>"
            ]
          },
          "metadata": {},
          "execution_count": 11
        }
      ]
    },
    {
      "cell_type": "code",
      "source": [
        "random=tf.fill((2,3,4),30)\n",
        "random"
      ],
      "metadata": {
        "colab": {
          "base_uri": "https://localhost:8080/"
        },
        "id": "OHl-KkeXXXVp",
        "outputId": "a99711c7-f1e8-438d-8bb1-67a77adc7afe"
      },
      "execution_count": 12,
      "outputs": [
        {
          "output_type": "execute_result",
          "data": {
            "text/plain": [
              "<tf.Tensor: shape=(2, 3, 4), dtype=int32, numpy=\n",
              "array([[[30, 30, 30, 30],\n",
              "        [30, 30, 30, 30],\n",
              "        [30, 30, 30, 30]],\n",
              "\n",
              "       [[30, 30, 30, 30],\n",
              "        [30, 30, 30, 30],\n",
              "        [30, 30, 30, 30]]], dtype=int32)>"
            ]
          },
          "metadata": {},
          "execution_count": 12
        }
      ]
    },
    {
      "cell_type": "code",
      "source": [
        "iden=tf.eye(5)\n",
        "iden"
      ],
      "metadata": {
        "colab": {
          "base_uri": "https://localhost:8080/"
        },
        "id": "l0jnZldNXp0o",
        "outputId": "155645e0-b2e3-40c7-cd2a-405781736fa4"
      },
      "execution_count": 13,
      "outputs": [
        {
          "output_type": "execute_result",
          "data": {
            "text/plain": [
              "<tf.Tensor: shape=(5, 5), dtype=float32, numpy=\n",
              "array([[1., 0., 0., 0., 0.],\n",
              "       [0., 1., 0., 0., 0.],\n",
              "       [0., 0., 1., 0., 0.],\n",
              "       [0., 0., 0., 1., 0.],\n",
              "       [0., 0., 0., 0., 1.]], dtype=float32)>"
            ]
          },
          "metadata": {},
          "execution_count": 13
        }
      ]
    },
    {
      "cell_type": "code",
      "source": [
        "tf.random.set_seed(30)\n",
        "shuffle_tensor=tf.random.shuffle(iden)\n",
        "shuffle_tensor"
      ],
      "metadata": {
        "colab": {
          "base_uri": "https://localhost:8080/"
        },
        "id": "T7alYuBBXv3M",
        "outputId": "c32a94b8-1aaa-4bca-ee3d-3c166ed24b27"
      },
      "execution_count": 14,
      "outputs": [
        {
          "output_type": "execute_result",
          "data": {
            "text/plain": [
              "<tf.Tensor: shape=(5, 5), dtype=float32, numpy=\n",
              "array([[0., 1., 0., 0., 0.],\n",
              "       [0., 0., 1., 0., 0.],\n",
              "       [0., 0., 0., 1., 0.],\n",
              "       [1., 0., 0., 0., 0.],\n",
              "       [0., 0., 0., 0., 1.]], dtype=float32)>"
            ]
          },
          "metadata": {},
          "execution_count": 14
        }
      ]
    },
    {
      "cell_type": "code",
      "source": [
        "tf.size(iden)"
      ],
      "metadata": {
        "colab": {
          "base_uri": "https://localhost:8080/"
        },
        "id": "iJ4LktUGYGUj",
        "outputId": "2eba4b22-c614-402c-937c-db313b6d0098"
      },
      "execution_count": 15,
      "outputs": [
        {
          "output_type": "execute_result",
          "data": {
            "text/plain": [
              "<tf.Tensor: shape=(), dtype=int32, numpy=25>"
            ]
          },
          "metadata": {},
          "execution_count": 15
        }
      ]
    },
    {
      "cell_type": "code",
      "source": [
        "iden[...,tf.newaxis] # Expanding the Dimension"
      ],
      "metadata": {
        "colab": {
          "base_uri": "https://localhost:8080/"
        },
        "id": "UdrzOFYNYP5s",
        "outputId": "e7ae222d-5935-4632-8f08-6de39fe56ecc"
      },
      "execution_count": 16,
      "outputs": [
        {
          "output_type": "execute_result",
          "data": {
            "text/plain": [
              "<tf.Tensor: shape=(5, 5, 1), dtype=float32, numpy=\n",
              "array([[[1.],\n",
              "        [0.],\n",
              "        [0.],\n",
              "        [0.],\n",
              "        [0.]],\n",
              "\n",
              "       [[0.],\n",
              "        [1.],\n",
              "        [0.],\n",
              "        [0.],\n",
              "        [0.]],\n",
              "\n",
              "       [[0.],\n",
              "        [0.],\n",
              "        [1.],\n",
              "        [0.],\n",
              "        [0.]],\n",
              "\n",
              "       [[0.],\n",
              "        [0.],\n",
              "        [0.],\n",
              "        [1.],\n",
              "        [0.]],\n",
              "\n",
              "       [[0.],\n",
              "        [0.],\n",
              "        [0.],\n",
              "        [0.],\n",
              "        [1.]]], dtype=float32)>"
            ]
          },
          "metadata": {},
          "execution_count": 16
        }
      ]
    },
    {
      "cell_type": "code",
      "source": [
        "tf.expand_dims(iden,1)"
      ],
      "metadata": {
        "colab": {
          "base_uri": "https://localhost:8080/"
        },
        "id": "Pg0RuEZCYUzP",
        "outputId": "a2d91290-7594-41e1-8476-073b463f3e47"
      },
      "execution_count": 17,
      "outputs": [
        {
          "output_type": "execute_result",
          "data": {
            "text/plain": [
              "<tf.Tensor: shape=(5, 1, 5), dtype=float32, numpy=\n",
              "array([[[1., 0., 0., 0., 0.]],\n",
              "\n",
              "       [[0., 1., 0., 0., 0.]],\n",
              "\n",
              "       [[0., 0., 1., 0., 0.]],\n",
              "\n",
              "       [[0., 0., 0., 1., 0.]],\n",
              "\n",
              "       [[0., 0., 0., 0., 1.]]], dtype=float32)>"
            ]
          },
          "metadata": {},
          "execution_count": 17
        }
      ]
    },
    {
      "cell_type": "code",
      "source": [
        "tf.random.set_seed(30)\n",
        "A=tf.random.uniform((3,3),maxval=20,dtype=tf.int32)\n",
        "B=tf.random.uniform((3,3),maxval=20,dtype=tf.int32)"
      ],
      "metadata": {
        "id": "viYR0LdWYir0"
      },
      "execution_count": 18,
      "outputs": []
    },
    {
      "cell_type": "code",
      "source": [
        "C=tf.linalg.matmul(A,B) # Matrix Multplication\n",
        "C"
      ],
      "metadata": {
        "colab": {
          "base_uri": "https://localhost:8080/"
        },
        "id": "XEP9u4ygZEXa",
        "outputId": "81e08085-deef-4801-bbec-0146671ba953"
      },
      "execution_count": 19,
      "outputs": [
        {
          "output_type": "execute_result",
          "data": {
            "text/plain": [
              "<tf.Tensor: shape=(3, 3), dtype=int32, numpy=\n",
              "array([[230, 336, 168],\n",
              "       [416, 376, 260],\n",
              "       [312, 470, 277]], dtype=int32)>"
            ]
          },
          "metadata": {},
          "execution_count": 19
        }
      ]
    },
    {
      "cell_type": "code",
      "source": [
        "D=A@B # Python Operator for Matrix Multplication\n",
        "D"
      ],
      "metadata": {
        "colab": {
          "base_uri": "https://localhost:8080/"
        },
        "id": "yXH3HTcmZPB8",
        "outputId": "07eaf89c-0903-4f17-e6fa-f53d191ef6ed"
      },
      "execution_count": 20,
      "outputs": [
        {
          "output_type": "execute_result",
          "data": {
            "text/plain": [
              "<tf.Tensor: shape=(3, 3), dtype=int32, numpy=\n",
              "array([[230, 336, 168],\n",
              "       [416, 376, 260],\n",
              "       [312, 470, 277]], dtype=int32)>"
            ]
          },
          "metadata": {},
          "execution_count": 20
        }
      ]
    },
    {
      "cell_type": "code",
      "source": [
        "tf.random.set_seed(30)\n",
        "E=tf.random.uniform((2,3),maxval=20,dtype=tf.int32)\n",
        "F=tf.random.uniform((2,3),maxval=20,dtype=tf.int32)\n",
        "\n",
        "F_change=tf.reshape(F,(3,2))\n",
        "F_transpose=tf.transpose(F)\n",
        "\n",
        "F,F_change,F_transpose"
      ],
      "metadata": {
        "colab": {
          "base_uri": "https://localhost:8080/"
        },
        "id": "tqE8jPo_ZpXe",
        "outputId": "7e763e4f-5d8d-459e-a193-b94c69e3ac9d"
      },
      "execution_count": 21,
      "outputs": [
        {
          "output_type": "execute_result",
          "data": {
            "text/plain": [
              "(<tf.Tensor: shape=(2, 3), dtype=int32, numpy=\n",
              " array([[ 9, 19, 13],\n",
              "        [19,  1, 18]], dtype=int32)>,\n",
              " <tf.Tensor: shape=(3, 2), dtype=int32, numpy=\n",
              " array([[ 9, 19],\n",
              "        [13, 19],\n",
              "        [ 1, 18]], dtype=int32)>,\n",
              " <tf.Tensor: shape=(3, 2), dtype=int32, numpy=\n",
              " array([[ 9, 19],\n",
              "        [19,  1],\n",
              "        [13, 18]], dtype=int32)>)"
            ]
          },
          "metadata": {},
          "execution_count": 21
        }
      ]
    },
    {
      "cell_type": "code",
      "source": [
        "G=E@F_change\n",
        "H=E@F_transpose\n",
        "G,H"
      ],
      "metadata": {
        "colab": {
          "base_uri": "https://localhost:8080/"
        },
        "id": "1QwXeccMZ30z",
        "outputId": "eece4723-b221-4e18-cee2-2fe323303dc4"
      },
      "execution_count": 22,
      "outputs": [
        {
          "output_type": "execute_result",
          "data": {
            "text/plain": [
              "(<tf.Tensor: shape=(2, 2), dtype=int32, numpy=\n",
              " array([[119, 354],\n",
              "        [188, 520]], dtype=int32)>,\n",
              " <tf.Tensor: shape=(2, 2), dtype=int32, numpy=\n",
              " array([[209, 336],\n",
              "        [380, 376]], dtype=int32)>)"
            ]
          },
          "metadata": {},
          "execution_count": 22
        }
      ]
    },
    {
      "cell_type": "code",
      "source": [
        "I=tf.tensordot(E,F_transpose,1) # Matrix Multplication\n",
        "I"
      ],
      "metadata": {
        "colab": {
          "base_uri": "https://localhost:8080/"
        },
        "id": "wK8ZQCcmagLk",
        "outputId": "21992ddf-b144-4c40-bcaf-1c85aab79871"
      },
      "execution_count": 23,
      "outputs": [
        {
          "output_type": "execute_result",
          "data": {
            "text/plain": [
              "<tf.Tensor: shape=(2, 2), dtype=int32, numpy=\n",
              "array([[209, 336],\n",
              "       [380, 376]], dtype=int32)>"
            ]
          },
          "metadata": {},
          "execution_count": 23
        }
      ]
    },
    {
      "cell_type": "code",
      "source": [
        "tf.random.set_seed(30)\n",
        "J=tf.random.uniform((2,3),maxval=20,dtype=tf.int32)\n",
        "J_float=tf.cast(J,tf.float16)\n",
        "J,J_float"
      ],
      "metadata": {
        "colab": {
          "base_uri": "https://localhost:8080/"
        },
        "id": "tdaW0DB0as90",
        "outputId": "856527f7-c789-4cbd-a491-265bbe6940b6"
      },
      "execution_count": 24,
      "outputs": [
        {
          "output_type": "execute_result",
          "data": {
            "text/plain": [
              "(<tf.Tensor: shape=(2, 3), dtype=int32, numpy=\n",
              " array([[11,  1,  7],\n",
              "        [ 8,  8, 12]], dtype=int32)>,\n",
              " <tf.Tensor: shape=(2, 3), dtype=float16, numpy=\n",
              " array([[11.,  1.,  7.],\n",
              "        [ 8.,  8., 12.]], dtype=float16)>)"
            ]
          },
          "metadata": {},
          "execution_count": 24
        }
      ]
    },
    {
      "cell_type": "code",
      "source": [
        "tf.random.set_seed(30)\n",
        "K=tf.random.uniform((20,),maxval=20,dtype=tf.int32)\n",
        "K_max=tf.reduce_max(K)\n",
        "K_min=tf.reduce_min(K)\n",
        "K_mean=tf.reduce_mean(K)\n",
        "K_sum=tf.reduce_sum(K)\n",
        "K,K_max,K_min,K_mean,K_sum"
      ],
      "metadata": {
        "colab": {
          "base_uri": "https://localhost:8080/"
        },
        "id": "GVSMt7ihbR0k",
        "outputId": "4c72baef-e113-448c-b05d-52addf74a22e"
      },
      "execution_count": 25,
      "outputs": [
        {
          "output_type": "execute_result",
          "data": {
            "text/plain": [
              "(<tf.Tensor: shape=(20,), dtype=int32, numpy=\n",
              " array([11,  1,  7,  8,  8, 12, 18,  2,  7,  1,  8, 11, 15,  6,  4,  0, 13,\n",
              "        12, 17, 14], dtype=int32)>,\n",
              " <tf.Tensor: shape=(), dtype=int32, numpy=18>,\n",
              " <tf.Tensor: shape=(), dtype=int32, numpy=0>,\n",
              " <tf.Tensor: shape=(), dtype=int32, numpy=8>,\n",
              " <tf.Tensor: shape=(), dtype=int32, numpy=175>)"
            ]
          },
          "metadata": {},
          "execution_count": 25
        }
      ]
    },
    {
      "cell_type": "code",
      "source": [
        "import tensorflow_probability as tfp\n",
        "K_std=tf.math.reduce_std(tf.cast(K,dtype=tf.float32))\n",
        "K_var=tf.math.reduce_variance(tf.cast(K,dtype=tf.float32))\n",
        "K_var1=tfp.stats.variance(tf.cast(K,dtype=tf.float32))\n",
        "K_std,K_var,K_var1"
      ],
      "metadata": {
        "colab": {
          "base_uri": "https://localhost:8080/"
        },
        "id": "aFVAq8TSbzM5",
        "outputId": "7bb50240-f810-4420-df76-4c8ead528967"
      },
      "execution_count": 26,
      "outputs": [
        {
          "output_type": "execute_result",
          "data": {
            "text/plain": [
              "(<tf.Tensor: shape=(), dtype=float32, numpy=5.242852>,\n",
              " <tf.Tensor: shape=(), dtype=float32, numpy=27.4875>,\n",
              " <tf.Tensor: shape=(), dtype=float32, numpy=27.4875>)"
            ]
          },
          "metadata": {},
          "execution_count": 26
        }
      ]
    },
    {
      "cell_type": "code",
      "source": [
        "min_pos=tf.argmin(K)\n",
        "max_pos=tf.argmax(K)\n",
        "min_ele=K[tf.argmin(K)]\n",
        "max_ele=K[tf.argmax(K)]\n",
        "K,min_pos,max_pos,min_ele,max_ele"
      ],
      "metadata": {
        "colab": {
          "base_uri": "https://localhost:8080/"
        },
        "id": "UI0U_gppcnH4",
        "outputId": "c04272a1-9b0c-4bf1-d021-0646e80f96b6"
      },
      "execution_count": 27,
      "outputs": [
        {
          "output_type": "execute_result",
          "data": {
            "text/plain": [
              "(<tf.Tensor: shape=(20,), dtype=int32, numpy=\n",
              " array([11,  1,  7,  8,  8, 12, 18,  2,  7,  1,  8, 11, 15,  6,  4,  0, 13,\n",
              "        12, 17, 14], dtype=int32)>,\n",
              " <tf.Tensor: shape=(), dtype=int64, numpy=15>,\n",
              " <tf.Tensor: shape=(), dtype=int64, numpy=6>,\n",
              " <tf.Tensor: shape=(), dtype=int32, numpy=0>,\n",
              " <tf.Tensor: shape=(), dtype=int32, numpy=18>)"
            ]
          },
          "metadata": {},
          "execution_count": 27
        }
      ]
    },
    {
      "cell_type": "code",
      "source": [
        "tf.random.set_seed(30)\n",
        "L=tf.random.uniform((2,3,1),maxval=20,dtype=tf.int32)\n",
        "L_reduce=tf.squeeze(L)\n",
        "L,L_reduce"
      ],
      "metadata": {
        "colab": {
          "base_uri": "https://localhost:8080/"
        },
        "id": "mgytLji8de4O",
        "outputId": "84f2522e-6263-4d07-829c-799721c0774a"
      },
      "execution_count": 28,
      "outputs": [
        {
          "output_type": "execute_result",
          "data": {
            "text/plain": [
              "(<tf.Tensor: shape=(2, 3, 1), dtype=int32, numpy=\n",
              " array([[[11],\n",
              "         [ 1],\n",
              "         [ 7]],\n",
              " \n",
              "        [[ 8],\n",
              "         [ 8],\n",
              "         [12]]], dtype=int32)>,\n",
              " <tf.Tensor: shape=(2, 3), dtype=int32, numpy=\n",
              " array([[11,  1,  7],\n",
              "        [ 8,  8, 12]], dtype=int32)>)"
            ]
          },
          "metadata": {},
          "execution_count": 28
        }
      ]
    },
    {
      "cell_type": "code",
      "source": [
        "M=tf.constant([1,2,3])\n",
        "M_one_hot=tf.one_hot(M,3)\n",
        "M,M_one_hot"
      ],
      "metadata": {
        "colab": {
          "base_uri": "https://localhost:8080/"
        },
        "id": "uJYQJsMed0T4",
        "outputId": "ea933b4a-850b-4a72-d223-94f60f0a20ad"
      },
      "execution_count": 29,
      "outputs": [
        {
          "output_type": "execute_result",
          "data": {
            "text/plain": [
              "(<tf.Tensor: shape=(3,), dtype=int32, numpy=array([1, 2, 3], dtype=int32)>,\n",
              " <tf.Tensor: shape=(3, 3), dtype=float32, numpy=\n",
              " array([[0., 1., 0.],\n",
              "        [0., 0., 1.],\n",
              "        [0., 0., 0.]], dtype=float32)>)"
            ]
          },
          "metadata": {},
          "execution_count": 29
        }
      ]
    },
    {
      "cell_type": "code",
      "source": [
        "tf.random.set_seed(30)\n",
        "N=tf.random.uniform((2,3,4),maxval=20,dtype=tf.int32)\n",
        "N_squ=tf.square(tf.cast(N,dtype=tf.float32))\n",
        "N_sqrt=tf.sqrt(tf.cast(N,dtype=tf.float32))\n",
        "N_log=tf.math.log(tf.cast(N,dtype=tf.float32))\n",
        "N,N_squ,N_sqrt,N_log"
      ],
      "metadata": {
        "colab": {
          "base_uri": "https://localhost:8080/"
        },
        "id": "eE5sgyHHd_VG",
        "outputId": "0e3e847d-f79b-4065-8af7-fae5d878033c"
      },
      "execution_count": 30,
      "outputs": [
        {
          "output_type": "execute_result",
          "data": {
            "text/plain": [
              "(<tf.Tensor: shape=(2, 3, 4), dtype=int32, numpy=\n",
              " array([[[11,  1,  7,  8],\n",
              "         [ 8, 12, 18,  2],\n",
              "         [ 7,  1,  8, 11]],\n",
              " \n",
              "        [[15,  6,  4,  0],\n",
              "         [13, 12, 17, 14],\n",
              "         [10, 15,  3,  7]]], dtype=int32)>,\n",
              " <tf.Tensor: shape=(2, 3, 4), dtype=float32, numpy=\n",
              " array([[[121.,   1.,  49.,  64.],\n",
              "         [ 64., 144., 324.,   4.],\n",
              "         [ 49.,   1.,  64., 121.]],\n",
              " \n",
              "        [[225.,  36.,  16.,   0.],\n",
              "         [169., 144., 289., 196.],\n",
              "         [100., 225.,   9.,  49.]]], dtype=float32)>,\n",
              " <tf.Tensor: shape=(2, 3, 4), dtype=float32, numpy=\n",
              " array([[[3.3166246, 1.       , 2.6457512, 2.828427 ],\n",
              "         [2.828427 , 3.4641016, 4.2426405, 1.4142135],\n",
              "         [2.6457512, 1.       , 2.828427 , 3.3166246]],\n",
              " \n",
              "        [[3.8729832, 2.4494896, 2.       , 0.       ],\n",
              "         [3.6055512, 3.4641016, 4.1231055, 3.7416573],\n",
              "         [3.1622777, 3.8729832, 1.7320508, 2.6457512]]], dtype=float32)>,\n",
              " <tf.Tensor: shape=(2, 3, 4), dtype=float32, numpy=\n",
              " array([[[2.3978953, 0.       , 1.9459102, 2.0794415],\n",
              "         [2.0794415, 2.4849067, 2.8903718, 0.6931472],\n",
              "         [1.9459102, 0.       , 2.0794415, 2.3978953]],\n",
              " \n",
              "        [[2.7080503, 1.7917595, 1.3862944,      -inf],\n",
              "         [2.5649493, 2.4849067, 2.8332133, 2.6390574],\n",
              "         [2.3025851, 2.7080503, 1.0986123, 1.9459102]]], dtype=float32)>)"
            ]
          },
          "metadata": {},
          "execution_count": 30
        }
      ]
    },
    {
      "cell_type": "code",
      "source": [
        "tf.config.list_physical_devices() # Details about the CPU , GPU , TPU"
      ],
      "metadata": {
        "colab": {
          "base_uri": "https://localhost:8080/"
        },
        "id": "wz6BUokre_dM",
        "outputId": "0e8e26cd-08b7-4189-f907-71402fa9f3ba"
      },
      "execution_count": 31,
      "outputs": [
        {
          "output_type": "execute_result",
          "data": {
            "text/plain": [
              "[PhysicalDevice(name='/physical_device:CPU:0', device_type='CPU'),\n",
              " PhysicalDevice(name='/physical_device:GPU:0', device_type='GPU')]"
            ]
          },
          "metadata": {},
          "execution_count": 31
        }
      ]
    },
    {
      "cell_type": "code",
      "source": [
        "!nvidia-smi"
      ],
      "metadata": {
        "colab": {
          "base_uri": "https://localhost:8080/"
        },
        "id": "Lq6gcV8efZgK",
        "outputId": "dfe75e00-0dc6-4d41-828e-94493299e312"
      },
      "execution_count": 32,
      "outputs": [
        {
          "output_type": "stream",
          "name": "stdout",
          "text": [
            "Sat Jan  4 13:26:36 2025       \n",
            "+---------------------------------------------------------------------------------------+\n",
            "| NVIDIA-SMI 535.104.05             Driver Version: 535.104.05   CUDA Version: 12.2     |\n",
            "|-----------------------------------------+----------------------+----------------------+\n",
            "| GPU  Name                 Persistence-M | Bus-Id        Disp.A | Volatile Uncorr. ECC |\n",
            "| Fan  Temp   Perf          Pwr:Usage/Cap |         Memory-Usage | GPU-Util  Compute M. |\n",
            "|                                         |                      |               MIG M. |\n",
            "|=========================================+======================+======================|\n",
            "|   0  Tesla T4                       Off | 00000000:00:04.0 Off |                    0 |\n",
            "| N/A   48C    P0              28W /  70W |    107MiB / 15360MiB |      0%      Default |\n",
            "|                                         |                      |                  N/A |\n",
            "+-----------------------------------------+----------------------+----------------------+\n",
            "                                                                                         \n",
            "+---------------------------------------------------------------------------------------+\n",
            "| Processes:                                                                            |\n",
            "|  GPU   GI   CI        PID   Type   Process name                            GPU Memory |\n",
            "|        ID   ID                                                             Usage      |\n",
            "|=======================================================================================|\n",
            "+---------------------------------------------------------------------------------------+\n"
          ]
        }
      ]
    }
  ]
}